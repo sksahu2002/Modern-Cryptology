{
 "cells": [
  {
   "cell_type": "code",
   "execution_count": 7,
   "id": "6f332ac6",
   "metadata": {},
   "outputs": [],
   "source": [
    "import numpy as np\n",
    "import random\n",
    "import sympy as sp\n",
    "from numpy.linalg import matrix_rank\n",
    "np.set_printoptions(threshold=np.inf)\n",
    "from pyfinite import ffield"
   ]
  },
  {
   "cell_type": "code",
   "execution_count": 6,
   "id": "e26f98de",
   "metadata": {},
   "outputs": [
    {
     "name": "stdout",
     "output_type": "stream",
     "text": [
      "Collecting pyfinite\n",
      "  Using cached pyfinite-1.9.1.tar.gz (27 kB)\n",
      "Collecting msgpack-python\n",
      "  Downloading msgpack-python-0.5.6.tar.gz (138 kB)\n",
      "\u001b[K     |████████████████████████████████| 138 kB 2.5 kB/s eta 0:00:03\n",
      "\u001b[?25hBuilding wheels for collected packages: pyfinite, msgpack-python\n",
      "  Building wheel for pyfinite (setup.py) ... \u001b[?25ldone\n",
      "\u001b[?25h  Created wheel for pyfinite: filename=pyfinite-1.9.1-py3-none-any.whl size=30403 sha256=e4320dd812013735a9db34d4e631886f8a24e90304f4e54006eb657d380dec07\n",
      "  Stored in directory: /Users/aditya/Library/Caches/pip/wheels/c5/18/c0/7e6606d7a4c57ebc83f5940e2bc73e66deaf90eb3f65783eac\n",
      "  Building wheel for msgpack-python (setup.py) ... \u001b[?25ldone\n",
      "\u001b[?25h  Created wheel for msgpack-python: filename=msgpack_python-0.5.6-cp39-cp39-macosx_10_9_x86_64.whl size=48454 sha256=11f9db9b858a1c1db85864baf4b27007632f433e256bce71abd716d28917eb0c\n",
      "  Stored in directory: /Users/aditya/Library/Caches/pip/wheels/8f/ce/bc/08b302b5ab90315dc9fc538c2d29b5d04087ce5be3e804d834\n",
      "Successfully built pyfinite msgpack-python\n",
      "Installing collected packages: msgpack-python, pyfinite\n",
      "Successfully installed msgpack-python-0.5.6 pyfinite-1.9.1\n",
      "Note: you may need to restart the kernel to use updated packages.\n"
     ]
    }
   ],
   "source": [
    "pip install pyfinite"
   ]
  },
  {
   "cell_type": "code",
   "execution_count": 8,
   "id": "94cad2fe",
   "metadata": {},
   "outputs": [],
   "source": [
    "#Dictionaries\n",
    "dct = {'f' : [0,0,0,0],\n",
    " 'g' : [0,0,0,1],\n",
    " 'h' : [0,0,1,0],\n",
    " 'i' : [0,0,1,1],\n",
    " 'j' : [0,1,0,0],\n",
    " 'k' : [0,1,0,1],\n",
    " 'l' : [0,1,1,0],\n",
    " 'm' : [0,1,1,1],\n",
    " 'n' : [1,0,0,0],\n",
    " 'o' : [1,0,0,1],\n",
    " 'p' : [1,0,1,0],\n",
    " 'q' : [1,0,1,1],\n",
    " 'r' : [1,1,0,0],\n",
    " 's' : [1,1,0,1],\n",
    " 't' : [1,1,1,0],\n",
    " 'u' : [1,1,1,1]}\n",
    "\n",
    "inv_dict = {'0000': 'f',\n",
    " '0001': 'g',\n",
    " '0010': 'h',\n",
    " '0011': 'i',\n",
    " '0100': 'j',\n",
    " '0101': 'k',\n",
    " '0110': 'l',\n",
    " '0111': 'm',\n",
    " '1000': 'n',\n",
    " '1001': 'o',\n",
    " '1010': 'p',\n",
    " '1011': 'q',\n",
    " '1100': 'r',\n",
    " '1101': 's',\n",
    " '1110': 't',\n",
    " '1111': 'u'}"
   ]
  },
  {
   "cell_type": "code",
   "execution_count": 9,
   "id": "74a669a1",
   "metadata": {},
   "outputs": [],
   "source": [
    "#It converts byte to corresponding two charachters\n",
    "def byte_str(b):\n",
    "    binnum = '{:0>8}'.format(format(b,\"b\"))\n",
    "    a = inv_dict[binnum[0:4]], inv_dict[binnum[4:8]]\n",
    "    return a[0]+a[1]"
   ]
  },
  {
   "cell_type": "code",
   "execution_count": 10,
   "id": "9e71204a",
   "metadata": {},
   "outputs": [],
   "source": [
    "#It maps set of two charachters(byte) to it's corresponding hex value\n",
    "def map_to_str(st):\n",
    "    char = chr(16*(ord(st[0]) - ord('f')) + ord(st[1]) - ord('f'))\n",
    "    return char"
   ]
  },
  {
   "cell_type": "code",
   "execution_count": 11,
   "id": "46aa0e4b",
   "metadata": {},
   "outputs": [],
   "source": [
    "#It takes full block of ip eg 'fffffffffffffffg' and outputs corresponding hex list\n",
    "def block_to_byte(c):\n",
    "    plainText = \"\"\n",
    "    for i in range(0, len(c), 2):\n",
    "        plainText += map_to_str(c[i:i+2])\n",
    "    return plainText"
   ]
  },
  {
   "cell_type": "code",
   "execution_count": 12,
   "id": "fdd4f7b8",
   "metadata": {},
   "outputs": [],
   "source": [
    "#It contains all the required functions for reuse\n",
    "#Add, Multiply,Expo, addVectors, scalarMultiplication, LinearTransformation\n",
    "exp_store = [[-1]*128 for i in range(128)]\n",
    "\n",
    "F = ffield.FField(7)\n",
    "\n",
    "def Add (n1, n2):\n",
    "    return int(n1) ^ int(n2)\n",
    "\n",
    "def Multiply (n1, n2):\n",
    "    return F.Multiply(n1, n2)\n",
    "\n",
    "def Expo (no, pow):\n",
    "    if exp_store[no][pow] != -1:\n",
    "        return exp_store[no][pow]\n",
    "\n",
    "    result = 0;\n",
    "    if pow == 0:\n",
    "        result = 1\n",
    "    elif pow == 1:\n",
    "        result = no\n",
    "    elif pow%2 == 0:\n",
    "        sqrt_no = Expo(no, pow>>1)\n",
    "        result = Multiply(sqrt_no, sqrt_no)\n",
    "    else:\n",
    "        sqrt_no = Expo(no, pow>>1)\n",
    "        result = Multiply(sqrt_no, sqrt_no)\n",
    "        result = Multiply(no, result)\n",
    "\n",
    "    exp_store[no][pow] = result\n",
    "    return result\n",
    "\n",
    "def addVectors (v1, v2):\n",
    "    result = [0]*8\n",
    "    for i, (e1, e2) in enumerate(zip(v1, v2)):\n",
    "        result[i] = Add(e1, e2)\n",
    "    return result\n",
    "\n",
    "def scalarMultiplication (v, elem):\n",
    "    result = [0]*8\n",
    "    for i, e in enumerate(v):\n",
    "        result[i] = Multiply(e, elem)\n",
    "    return result\n",
    "\n",
    "def LinearTransformation (mat, elist):\n",
    "    result = [0]*8\n",
    "    for row, elem in zip(mat, elist):\n",
    "        result = addVectors(scalarMultiplication(row, elem), result)\n",
    "    return result"
   ]
  },
  {
   "cell_type": "code",
   "execution_count": 13,
   "id": "736525aa",
   "metadata": {},
   "outputs": [
    {
     "name": "stdout",
     "output_type": "stream",
     "text": [
      "[[[84, 46, 96], [], [], [], [], [], [], []], [[], [127, 9, 70], [], [], [], [], [], []], [[], [], [108, 43, 86], [], [], [], [], []], [[], [], [], [68, 95, 12], [], [], [], []], [[], [], [], [], [64, 100, 112], [], [], []], [[], [], [], [], [], [11, 92, 126], [], []], [[], [], [], [], [], [], [123, 27, 63], []], [[], [], [], [], [], [], [], [38, 33, 53]]]\n",
      "[[24, 28, 75], [59, 90, 105], [29, 43, 55], [15, 31, 81], [18, 21, 88], [51, 80, 123], [18, 21, 88], [24, 28, 75]]\n"
     ]
    }
   ],
   "source": [
    "#This list will consist of all possible exponents\n",
    "poss_exp = [[] for i in range(8)]\n",
    "#This list will consist of all possible diagonal values\n",
    "poss_aii = [[[] for i in range(8)] for j in range(8)]\n",
    "input_file = open(\"goodinput.txt\", 'r')\n",
    "output_file = open(\"goodoutput.txt\", 'r')\n",
    "for ind, (iline, oline) in enumerate(zip(input_file.readlines(), output_file.readlines())):\n",
    "    inpString = []\n",
    "    outString = []\n",
    "    #Converting each input to corresponding hex values\n",
    "    for hexi in iline.strip().split(\" \"):\n",
    "        inpString.append(block_to_byte(hexi)[ind])\n",
    "    for hexo in oline.strip().split(\" \"):\n",
    "        outString.append(block_to_byte(hexo)[ind])\n",
    "        \n",
    "    for i in range(1, 127):\n",
    "        for j in range(1, 128):\n",
    "            flag = True\n",
    "            for inps, outs in zip(inpString, outString):\n",
    "                #We iterate over all possible values of ei and ajj to check if input maps to output\n",
    "                if ord(outs) != Expo(Multiply(Expo(Multiply(Expo(ord(inps), i), j), i), j), i):\n",
    "                    flag = False\n",
    "                    break\n",
    "            if flag:\n",
    "                #If yes, then we append them to corresponding possible lists\n",
    "                poss_exp[ind].append(i)\n",
    "                poss_aii[ind][ind].append(j)\n",
    "print(poss_aii)\n",
    "print(poss_exp)"
   ]
  },
  {
   "cell_type": "code",
   "execution_count": 15,
   "id": "f6d3ac01",
   "metadata": {},
   "outputs": [
    {
     "name": "stdout",
     "output_type": "stream",
     "text": [
      "[[[84], [118], [], [], [], [], [], []], [[], [70], [27], [], [], [], [], []], [[], [], [43], [27], [], [], [], []], [[], [], [], [12], [110], [], [], []], [[], [], [], [], [112], [99], [], []], [[], [], [], [], [], [11], [92], []], [[], [], [], [], [], [], [27], [30]], [[], [], [], [], [], [], [], [38]]]\n",
      "[[24], [105], [43], [81], [88], [51], [21], [24]]\n"
     ]
    }
   ],
   "source": [
    "input_file = open(\"goodinput.txt\", 'r')\n",
    "output_file = open(\"goodoutput.txt\", 'r')\n",
    "for ind, (iline, oline) in enumerate(zip(input_file.readlines(), output_file.readlines())):\n",
    "    #Considering only first 6 pairs\n",
    "    if ind > 6 :\n",
    "        break\n",
    "    inpString = []\n",
    "    outString = []\n",
    "    #Converting each input to corresponding hex values\n",
    "    for hexi in iline.strip().split(\" \"):\n",
    "        inpString.append(block_to_byte(hexi)[ind]) \n",
    "    for hexo in oline.strip().split(\" \"):\n",
    "        outString.append(block_to_byte(hexo)[ind+1])\n",
    "    for i in range(1, 128):\n",
    "        #We iterate over all possible pairs of exponents and diagonal values\n",
    "        for p1, e1 in zip(poss_exp[ind+1], poss_aii[ind+1][ind+1]):\n",
    "            for p2, e2 in zip(poss_exp[ind], poss_aii[ind][ind]):\n",
    "                flag = True\n",
    "                for inp, outp in zip(inpString, outString):\n",
    "                    #We substitute the pairs ad=nd iterate over all possible values of i\n",
    "                    #We do this by forming virtual triangle (aii,aij,ajj)\n",
    "                    if ord(outp) != Expo(Add(Multiply(Expo(Multiply(Expo(ord(inp), p2), e2), p2), i) ,Multiply(Expo(Multiply(Expo(ord(inp), p2), i), p1), e1)), p1):\n",
    "                        flag = False\n",
    "                        break\n",
    "                if flag:\n",
    "                    #If we find such value, then we can discard other possibilities and finalize the lists\n",
    "                    poss_exp[ind+1] = [p1]\n",
    "                    poss_aii[ind+1][ind+1] = [e1]\n",
    "                    poss_exp[ind] = [p2]\n",
    "                    poss_aii[ind][ind] = [e2]\n",
    "                    poss_aii[ind][ind+1] = [i]\n",
    "print(poss_aii)\n",
    "print(poss_exp)"
   ]
  },
  {
   "cell_type": "code",
   "execution_count": 16,
   "id": "b1e6d5e7",
   "metadata": {},
   "outputs": [],
   "source": [
    "#This function mimics EAEAE\n",
    "def EAEAE (plaintext, lin_mat, exp_mat):\n",
    "    plaintext = [ord(c) for c in plaintext]\n",
    "    Output = [[0 for j in range (8)] for i in range(8)]\n",
    "    for ind, elem in enumerate(plaintext):\n",
    "        Output[0][ind] = Expo(elem, exp_mat[ind])\n",
    "\n",
    "    Output[1] = LinearTransformation(lin_mat, Output[0])\n",
    "\n",
    "    for ind, elem in enumerate(Output[1]):\n",
    "        Output[2][ind] = Expo(elem, exp_mat[ind])\n",
    "\n",
    "    Output[3] = LinearTransformation(lin_mat, Output[2])\n",
    "\n",
    "    for ind, elem in enumerate(Output[3]):\n",
    "        Output[4][ind] = Expo(elem, exp_mat[ind])\n",
    "    return Output[4]\n"
   ]
  },
  {
   "cell_type": "code",
   "execution_count": 17,
   "id": "2c99ee01",
   "metadata": {},
   "outputs": [
    {
     "name": "stdout",
     "output_type": "stream",
     "text": [
      "[[84, 118, 27, 122, 96, 31, 22, 91], [0, 70, 27, 20, 60, 50, 125, 12], [0, 0, 43, 27, 13, 25, 1, 72], [0, 0, 0, 12, 110, 50, 98, 23], [0, 0, 0, 0, 112, 99, 5, 12], [0, 0, 0, 0, 0, 11, 92, 68], [0, 0, 0, 0, 0, 0, 27, 30], [0, 0, 0, 0, 0, 0, 0, 38]]\n",
      "[24, 105, 43, 81, 88, 51, 21, 24]\n"
     ]
    }
   ],
   "source": [
    "for index in range(6):\n",
    "    #As we have already found element next to diagonal thus skipping two elements every time\n",
    "    of = index + 2\n",
    "    \n",
    "    exp_list = [e[0] for e in poss_exp]\n",
    "    lin_trans_list = [[0 for i in range(8)] for j in range(8)]\n",
    "    #We fill all the empty [] elements with 0\n",
    "    for i in range(8):\n",
    "        for j in range(8):\n",
    "            lin_trans_list[i][j] = 0 if len(poss_aii[i][j]) == 0 else poss_aii[i][j][0]\n",
    "    inp = open(\"goodinput.txt\", 'r')\n",
    "    out = open(\"goodoutput.txt\", 'r')\n",
    "    for ind, (iline, oline) in enumerate(zip(inp.readlines(), out.readlines())):\n",
    "        if ind > (7-of):\n",
    "            continue\n",
    "        inpString = [block_to_byte(msg) for msg in iline.strip().split(\" \")]\n",
    "        outString = [block_to_byte(msg) for msg in oline.strip().split(\" \")]\n",
    "        #We iterate over all possible values of ai,j to find which one satisfies EAEAE = Output\n",
    "        for i in range(1, 128):\n",
    "            lin_trans_list[ind][ind+of] = i\n",
    "            flag = True\n",
    "            for inps, outs in zip(inpString, outString):\n",
    "                if EAEAE(inps, lin_trans_list, exp_list)[ind+of] != ord(outs[ind+of]):\n",
    "                    flag = False\n",
    "                    break\n",
    "            if flag:\n",
    "                poss_aii[ind][ind+of] = [i]\n",
    "    inp.close();\n",
    "    out.close();\n",
    "#We fill all the empty [] elements with 0\n",
    "lin_trans_list = [[0 for i in range(8)] for j in range(8)]\n",
    "for i in range(8):\n",
    "    for j in range(8):\n",
    "        lin_trans_list[i][j] = 0 if len(poss_aii[i][j]) == 0 else poss_aii[i][j][0]\n",
    "\n",
    "print(lin_trans_list)\n",
    "print(exp_list)"
   ]
  },
  {
   "cell_type": "code",
   "execution_count": 18,
   "id": "79948faf",
   "metadata": {},
   "outputs": [],
   "source": [
    "LINEAR_MATRIX = [[84, 118, 27, 122, 96, 31, 22, 91],\n",
    "                 [0, 70, 27, 20, 60, 50, 125, 12],\n",
    "                 [0, 0, 43, 27, 13, 25, 1, 72],\n",
    "                 [0, 0, 0, 12, 110, 50, 98, 23],\n",
    "                 [0, 0, 0, 0, 112, 99, 5, 12],\n",
    "                 [0, 0, 0, 0, 0, 11, 92, 68],\n",
    "                 [0, 0, 0, 0, 0, 0, 27, 30],\n",
    "                 [0, 0, 0, 0, 0, 0, 0, 38]]\n",
    "EXPONENT_MATRIX = [24, 105, 43, 81, 88, 51, 21, 24]"
   ]
  },
  {
   "cell_type": "code",
   "execution_count": 26,
   "id": "54ecfcdb",
   "metadata": {},
   "outputs": [
    {
     "name": "stdout",
     "output_type": "stream",
     "text": [
      "xjtwzxnubm000000\n"
     ]
    }
   ],
   "source": [
    "password_1 = \"jghrlgjihrggifjt\"\n",
    "password_2 = \"kgghmohlhtmuhhjf\"\n",
    "\n",
    "#We iterate over all possible 128 byte values and perform EAEAE to check for which input the password (half) matches\n",
    "def DecryptPassword(password):\n",
    "    passw = block_to_byte(password)\n",
    "    op = \"\"\n",
    "    for ind in range(8):\n",
    "        for ans in range(128):\n",
    "            inp = op + byte_str(ans)+(16-len(op)-2)*'f'\n",
    "            if ord(passw[ind]) == EAEAE(block_to_byte(inp), LINEAR_MATRIX, EXPONENT_MATRIX)[ind]:\n",
    "                op += byte_str(ans)\n",
    "                #print(ans)\n",
    "                break\n",
    "    return op\n",
    "\n",
    "print(block_to_byte(DecryptPassword(password_1))+block_to_byte(DecryptPassword(password_2)))"
   ]
  },
  {
   "cell_type": "code",
   "execution_count": null,
   "id": "63a2226a",
   "metadata": {},
   "outputs": [],
   "source": []
  }
 ],
 "metadata": {
  "kernelspec": {
   "display_name": "Python 3 (ipykernel)",
   "language": "python",
   "name": "python3"
  },
  "language_info": {
   "codemirror_mode": {
    "name": "ipython",
    "version": 3
   },
   "file_extension": ".py",
   "mimetype": "text/x-python",
   "name": "python",
   "nbconvert_exporter": "python",
   "pygments_lexer": "ipython3",
   "version": "3.9.7"
  }
 },
 "nbformat": 4,
 "nbformat_minor": 5
}
