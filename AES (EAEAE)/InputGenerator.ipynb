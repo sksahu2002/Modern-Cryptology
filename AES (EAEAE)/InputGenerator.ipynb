{
 "cells": [
  {
   "cell_type": "code",
   "execution_count": 1,
   "id": "0b89342c",
   "metadata": {},
   "outputs": [],
   "source": [
    "import numpy as np\n",
    "import random\n",
    "import sympy as sp\n",
    "from numpy.linalg import matrix_rank\n",
    "np.set_printoptions(threshold=np.inf)"
   ]
  },
  {
   "cell_type": "code",
   "execution_count": 2,
   "id": "b8ff4aa5",
   "metadata": {},
   "outputs": [],
   "source": [
    "mapping = {}\n",
    "for i in range(16):\n",
    "    num = '{:0>4}'.format(format(i,\"b\"))\n",
    "    numi = int(num[3]) + 2 *int(num[2]) + int(num[1]) * 4 + int(num[0])*8\n",
    "    mapping[num] = chr(ord('f')+numi)"
   ]
  },
  {
   "cell_type": "code",
   "execution_count": 4,
   "id": "5cb518e0",
   "metadata": {},
   "outputs": [],
   "source": [
    "file = open(\"inputs.txt\",\"w+\")\n",
    "for i in range(8):\n",
    "    for j in range(128):\n",
    "        curr_ip_j = np.binary_repr(j, width=8)\n",
    "        strr = 'ff'*i + mapping[curr_ip_j[:4]] + mapping[curr_ip_j[4:]] + 'ff'*(8-i-1)\n",
    "        file.write(strr)\n",
    "        file.write(\"\\n\")\n",
    "    #file.write(\"\\n\")\n",
    "file.close()"
   ]
  },
  {
   "cell_type": "code",
   "execution_count": null,
   "id": "b2d3d94c",
   "metadata": {},
   "outputs": [],
   "source": []
  }
 ],
 "metadata": {
  "kernelspec": {
   "display_name": "Python 3 (ipykernel)",
   "language": "python",
   "name": "python3"
  },
  "language_info": {
   "codemirror_mode": {
    "name": "ipython",
    "version": 3
   },
   "file_extension": ".py",
   "mimetype": "text/x-python",
   "name": "python",
   "nbconvert_exporter": "python",
   "pygments_lexer": "ipython3",
   "version": "3.9.7"
  }
 },
 "nbformat": 4,
 "nbformat_minor": 5
}
